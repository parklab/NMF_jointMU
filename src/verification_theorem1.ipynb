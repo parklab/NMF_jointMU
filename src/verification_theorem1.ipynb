{
 "cells": [
  {
   "cell_type": "markdown",
   "id": "aa342182-6a81-463d-b8ec-31c310c54a6a",
   "metadata": {},
   "source": [
    "This notebook empirically confirms Theorem 1, which states that the iterates of the joint NMF and PLSA algorithms are identical up to a trivial scaling of the topic weights.\n",
    "\n",
    "We run both algorithms with the same initialization and for a fixed number of iterations, then compare the resulting iterates. This process is repeated across multiple random initializations and different number of iterations.\n",
    "\n",
    "**Note:**\n",
    "\n",
    "Although Algorithms 1, S2, and S3 have iterates that are identical up to a trivial constant, they converge in a different number of iterations when the stopping criterion is the relative change in objective function value. This is expected because the loss function values of the iterates differ by a data-dependent constant $C=C(X)$, assuming identical initializations."
   ]
  },
  {
   "cell_type": "code",
   "execution_count": 1,
   "id": "18949bcc-d33f-418c-9fe6-5ca4beb31897",
   "metadata": {},
   "outputs": [],
   "source": [
    "import numpy as np\n",
    "\n",
    "import klnmf"
   ]
  },
  {
   "cell_type": "code",
   "execution_count": 2,
   "id": "2441aadf-e950-4806-948d-b44b8e6c7823",
   "metadata": {},
   "outputs": [],
   "source": [
    "X = np.load(\"../data/olivetti/faces.npy\")\n",
    "per_sample_sum = np.sum(X, axis=0)\n",
    "N_TOPICS = 6\n",
    "N_INITS = 5\n",
    "MAX_N_ITER = 100"
   ]
  },
  {
   "cell_type": "code",
   "execution_count": 3,
   "id": "aba2df7f-534e-42a3-b48f-fd5f52b1c9bd",
   "metadata": {},
   "outputs": [
    {
     "name": "stdout",
     "output_type": "stream",
     "text": [
      "done\n"
     ]
    }
   ],
   "source": [
    "for n in range(N_INITS):\n",
    "    n_iter = np.random.choice(range(1, MAX_N_ITER))\n",
    "    model_nmf = klnmf.KLNMF(\n",
    "        n_topics=N_TOPICS,\n",
    "        update_method=\"mu-jointnorm1\",\n",
    "        min_iterations=n_iter,\n",
    "        max_iterations=n_iter,\n",
    "    )\n",
    "    model_nmf.fit(X, seed=n)\n",
    "    model_plsa = klnmf.KLNMF(\n",
    "        n_topics=N_TOPICS,\n",
    "        update_method=\"mu-jointnorm2\",  # PLSA\n",
    "        min_iterations=n_iter,\n",
    "        max_iterations=n_iter,\n",
    "    )\n",
    "    model_plsa.fit(X, seed=n)\n",
    "    assert np.allclose(model_nmf.W, model_plsa.W)\n",
    "    for k in range(N_TOPICS):\n",
    "        assert np.allclose(model_nmf.H[k, :] / model_plsa.H[k, :], per_sample_sum)\n",
    "\n",
    "print(\"done\")"
   ]
  }
 ],
 "metadata": {
  "kernelspec": {
   "display_name": "nmf_jointmu",
   "language": "python",
   "name": "nmf_jointmu"
  },
  "language_info": {
   "codemirror_mode": {
    "name": "ipython",
    "version": 3
   },
   "file_extension": ".py",
   "mimetype": "text/x-python",
   "name": "python",
   "nbconvert_exporter": "python",
   "pygments_lexer": "ipython3",
   "version": "3.11.9"
  }
 },
 "nbformat": 4,
 "nbformat_minor": 5
}
