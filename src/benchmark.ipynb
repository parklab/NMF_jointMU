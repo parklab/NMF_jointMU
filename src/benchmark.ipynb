{
 "cells": [
  {
   "cell_type": "code",
   "execution_count": 1,
   "id": "66ddcc51-83ee-4306-bbe6-d8c9e15226a4",
   "metadata": {},
   "outputs": [],
   "source": [
    "import pickle\n",
    "\n",
    "import numpy as np\n",
    "\n",
    "import klnmf"
   ]
  },
  {
   "cell_type": "code",
   "execution_count": 2,
   "id": "75a5c05f-8a13-4656-a7f1-1aa2a12044c6",
   "metadata": {},
   "outputs": [
    {
     "name": "stdout",
     "output_type": "stream",
     "text": [
      "(784, 60000)\n"
     ]
    }
   ],
   "source": [
    "N_RUNS = 20\n",
    "METHOD = \"mu-standard1999\"\n",
    "DATASET = \"mnist\"\n",
    "OUTPATH = f\"../results/{METHOD}/{DATASET}\"\n",
    "\n",
    "X = np.load(f\"../data/{DATASET}.npy\")\n",
    "print(X.shape)\n",
    "N_TOPICS = 10"
   ]
  },
  {
   "cell_type": "markdown",
   "id": "f807978c-6f52-4e9f-ab38-ddf7f6057617",
   "metadata": {},
   "source": [
    "Each saved history from an NMF run is stored as a dictionary:\n",
    "\n",
    "* Keys: iteration numbers\n",
    "* Values: tuples of (objective‑function value, runtime) for each iteration"
   ]
  },
  {
   "cell_type": "code",
   "execution_count": 3,
   "id": "a74db09a-2fe3-4e4b-9df3-15240f45e494",
   "metadata": {},
   "outputs": [],
   "source": [
    "def get_runtime(history: dict[int, (float, float)]) -> float:\n",
    "    \"\"\"\n",
    "    Get the total runtime until convergence from the saved history.\n",
    "    \"\"\"\n",
    "    n_iter = np.sort(list(history.keys()))[-1]\n",
    "    runtime = history[n_iter][1]\n",
    "    return runtime\n",
    "\n",
    "\n",
    "def benchmark(X: np.ndarray) -> list:\n",
    "    histories = []\n",
    "\n",
    "    for n_run in np.arange(N_RUNS):\n",
    "        model = klnmf.KLNMF(\n",
    "            n_topics=N_TOPICS,\n",
    "            update_method=METHOD,\n",
    "        )\n",
    "        model.fit(X, seed=n_run, verbose=1)\n",
    "        runtime = get_runtime(model.history)\n",
    "        print(f\"run {n_run} took {runtime:.3f}\")\n",
    "        histories.append(model.history)\n",
    "\n",
    "    return histories"
   ]
  },
  {
   "cell_type": "code",
   "execution_count": 6,
   "id": "294fe1c0-e309-4d5c-863d-d27c8a20c943",
   "metadata": {},
   "outputs": [],
   "source": [
    "# JIT compile\n",
    "model = klnmf.KLNMF(n_topics=2, update_method=METHOD, max_iterations=10)\n",
    "model.fit(X)"
   ]
  },
  {
   "cell_type": "code",
   "execution_count": 10,
   "id": "ebef638f-d3e1-4e8b-9734-110b9e30df96",
   "metadata": {},
   "outputs": [
    {
     "name": "stdout",
     "output_type": "stream",
     "text": [
      "iteration: 1000; objective: 863824545.60\n",
      "iteration: 2000; objective: 860853750.59\n",
      "run 0 took 1469.084\n",
      "iteration: 1000; objective: 863517940.61\n",
      "run 1 took 1083.456\n",
      "run 2 took 398.008\n",
      "iteration: 1000; objective: 860940494.73\n",
      "run 3 took 1038.672\n",
      "run 4 took 598.017\n",
      "run 5 took 683.997\n",
      "run 6 took 641.316\n",
      "iteration: 1000; objective: 861226541.61\n",
      "run 7 took 906.717\n",
      "run 8 took 445.267\n",
      "iteration: 1000; objective: 868757473.73\n",
      "iteration: 2000; objective: 861114887.41\n",
      "run 9 took 1893.781\n",
      "iteration: 1000; objective: 862285045.24\n",
      "iteration: 2000; objective: 859295614.80\n",
      "run 10 took 1417.633\n",
      "iteration: 1000; objective: 868559167.25\n",
      "run 11 took 707.388\n",
      "run 12 took 571.312\n",
      "iteration: 1000; objective: 861648660.50\n",
      "run 13 took 1292.275\n",
      "iteration: 1000; objective: 868346398.86\n",
      "iteration: 2000; objective: 865798220.84\n",
      "run 14 took 1656.396\n",
      "run 15 took 575.113\n",
      "run 16 took 693.856\n",
      "run 17 took 350.952\n",
      "iteration: 1000; objective: 860243397.39\n",
      "run 18 took 966.381\n",
      "iteration: 1000; objective: 863389310.07\n",
      "run 19 took 755.037\n"
     ]
    }
   ],
   "source": [
    "# actual benchmark\n",
    "histories = benchmark(X)"
   ]
  },
  {
   "cell_type": "code",
   "execution_count": 11,
   "id": "172e53a9-a929-4798-be23-86dafbba641d",
   "metadata": {},
   "outputs": [],
   "source": [
    "with open(f\"{OUTPATH}/histories.pkl\", \"wb\") as handle:\n",
    "    pickle.dump(histories, handle, protocol=pickle.HIGHEST_PROTOCOL)"
   ]
  }
 ],
 "metadata": {
  "kernelspec": {
   "display_name": "nmf_jointmu",
   "language": "python",
   "name": "nmf_jointmu"
  },
  "language_info": {
   "codemirror_mode": {
    "name": "ipython",
    "version": 3
   },
   "file_extension": ".py",
   "mimetype": "text/x-python",
   "name": "python",
   "nbconvert_exporter": "python",
   "pygments_lexer": "ipython3",
   "version": "3.11.9"
  }
 },
 "nbformat": 4,
 "nbformat_minor": 5
}
